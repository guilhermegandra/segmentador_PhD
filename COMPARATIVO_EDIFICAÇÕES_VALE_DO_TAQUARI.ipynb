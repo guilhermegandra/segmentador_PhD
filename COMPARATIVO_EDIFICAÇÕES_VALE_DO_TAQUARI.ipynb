{
  "nbformat": 4,
  "nbformat_minor": 0,
  "metadata": {
    "colab": {
      "provenance": [],
      "toc_visible": true,
      "authorship_tag": "ABX9TyPvxlYnRn/6aOabLiTAwERk",
      "include_colab_link": true
    },
    "kernelspec": {
      "name": "python3",
      "display_name": "Python 3"
    },
    "language_info": {
      "name": "python"
    }
  },
  "cells": [
    {
      "cell_type": "markdown",
      "metadata": {
        "id": "view-in-github",
        "colab_type": "text"
      },
      "source": [
        "<a href=\"https://colab.research.google.com/github/guilhermegandra/segmentador_PhD/blob/master/COMPARATIVO_EDIFICA%C3%87%C3%95ES_VALE_DO_TAQUARI.ipynb\" target=\"_parent\"><img src=\"https://colab.research.google.com/assets/colab-badge.svg\" alt=\"Open In Colab\"/></a>"
      ]
    },
    {
      "cell_type": "code",
      "execution_count": null,
      "metadata": {
        "id": "tIUnIMD3abOT"
      },
      "outputs": [],
      "source": []
    },
    {
      "cell_type": "code",
      "source": [
        "from google.colab import drive\n",
        "drive.mount('/content/drive')\n"
      ],
      "metadata": {
        "colab": {
          "base_uri": "https://localhost:8080/"
        },
        "id": "My83WA0lafqW",
        "outputId": "45febe76-172a-4b5e-f220-86ab88651a9a"
      },
      "execution_count": null,
      "outputs": [
        {
          "output_type": "stream",
          "name": "stdout",
          "text": [
            "Mounted at /content/drive\n"
          ]
        }
      ]
    },
    {
      "cell_type": "code",
      "source": [
        "import os\n",
        "\n",
        "# Caminho para a pasta TESE\n",
        "tese_folder = \"/content/drive/My Drive/TESE\"\n",
        "\n",
        "# Listar arquivos na pasta\n",
        "print(\"Arquivos na pasta TESE:\")\n",
        "print(os.listdir(tese_folder))\n"
      ],
      "metadata": {
        "colab": {
          "base_uri": "https://localhost:8080/"
        },
        "id": "yY_-9Tsfar1H",
        "outputId": "da2d0103-2986-4a28-cf29-8181ac9766fb"
      },
      "execution_count": null,
      "outputs": [
        {
          "output_type": "stream",
          "name": "stdout",
          "text": [
            "Arquivos na pasta TESE:\n",
            "['REFERENCIAL.prj', 'REFERENCIAL.shp', 'REFERENCIAL.shx', 'REFERENCIAL.cpg', 'REFERENCIAL.dbf', 'REFERENCIAL.shp.xml', 'REFERENCIAL.sbn', 'REFERENCIAL.sbx', 'OSM.prj', 'OSM.shx', 'OSM.shp', 'OSM.cpg', 'OSM.dbf', 'OSM.shp.xml', 'OSM.sbn', 'OSM.sbx', 'GOOGLE.prj', 'GOOGLE.shx', 'GOOGLE.shp', 'GOOGLE.cpg', 'GOOGLE.dbf', 'GOOGLE.shp.xml', 'GOOGLE.sbn', 'GOOGLE.sbx', 'REFERENCIAL.shp.DESKTOP-DOCPV23.17840.32712.sr.lock', 'OSM.shp.DESKTOP-DOCPV23.17840.32712.sr.lock', 'GOOGLE.shp.DESKTOP-DOCPV23.17840.32712.sr.lock']\n"
          ]
        }
      ]
    },
    {
      "cell_type": "code",
      "source": [
        "import geopandas as gpd\n",
        "\n",
        "# Caminho dos arquivos na pasta TESE\n",
        "referencial_path = os.path.join(tese_folder, \"REFERENCIAL.shp\")\n",
        "osm_path = os.path.join(tese_folder, \"OSM.shp\")\n",
        "google_path = os.path.join(tese_folder, \"GOOGLE.shp\")\n",
        "\n",
        "# Carregar os shapefiles\n",
        "referencial = gpd.read_file(referencial_path)\n",
        "osm = gpd.read_file(osm_path)\n",
        "google = gpd.read_file(google_path)\n",
        "\n",
        "# Verificar a carga\n",
        "print(f\"Feições no REFERENCIAL: {len(referencial)}\")\n",
        "print(f\"Feições no OSM: {len(osm)}\")\n",
        "print(f\"Feições no GOOGLE: {len(google)}\")\n"
      ],
      "metadata": {
        "colab": {
          "base_uri": "https://localhost:8080/"
        },
        "id": "xoOfc1deaxPf",
        "outputId": "59404fdb-e8b6-4167-b7e7-60379542a745"
      },
      "execution_count": null,
      "outputs": [
        {
          "output_type": "stream",
          "name": "stdout",
          "text": [
            "Feições no REFERENCIAL: 4199\n",
            "Feições no OSM: 3930\n",
            "Feições no GOOGLE: 6122\n"
          ]
        }
      ]
    },
    {
      "cell_type": "code",
      "source": [
        "# Reprojetar para CRS métrico pois estão em WGS\n",
        "referencial = referencial.to_crs(epsg=3857)\n",
        "osm = osm.to_crs(epsg=3857)\n",
        "google = google.to_crs(epsg=3857)\n"
      ],
      "metadata": {
        "id": "LLx88vBgbdkz"
      },
      "execution_count": null,
      "outputs": []
    },
    {
      "cell_type": "code",
      "source": [
        "def jaccard_index(polygon1, polygon2):\n",
        "    \"\"\"\n",
        "    Calcula o índice de Jaccard entre dois polígonos.\n",
        "    \"\"\"\n",
        "    intersection = polygon1.intersection(polygon2).area\n",
        "    union = polygon1.union(polygon2).area\n",
        "    return intersection / union if union > 0 else 0\n"
      ],
      "metadata": {
        "id": "rr4-5BFAcnSJ"
      },
      "execution_count": null,
      "outputs": []
    },
    {
      "cell_type": "code",
      "source": [
        "# Reprojetar para CRS métrico\n",
        "referencial = referencial.to_crs(epsg=3857)\n",
        "osm = osm.to_crs(epsg=3857)\n",
        "google = google.to_crs(epsg=3857)\n",
        "\n",
        "# Função Jaccard Index\n",
        "def jaccard_index(polygon1, polygon2):\n",
        "    intersection = polygon1.intersection(polygon2).area\n",
        "    union = polygon1.union(polygon2).area\n",
        "    return intersection / union if union > 0 else 0\n",
        "\n",
        "# Comparação entre REFERENCIAL e os outros conjuntos\n",
        "results = []\n",
        "\n",
        "for idx, ref_geom in enumerate(referencial.geometry):\n",
        "    # Encontra a geometria correspondente no OSM e GOOGLE mais próxima\n",
        "    osm_match = osm.iloc[osm.distance(ref_geom).idxmin()]\n",
        "    google_match = google.iloc[google.distance(ref_geom).idxmin()]\n",
        "\n",
        "    # Calcula índices de Jaccard\n",
        "    osm_jaccard = jaccard_index(ref_geom, osm_match.geometry)\n",
        "    google_jaccard = jaccard_index(ref_geom, google_match.geometry)\n",
        "\n",
        "    # Registra os resultados\n",
        "    results.append({\n",
        "        \"Referencial_ID\": idx,\n",
        "        \"OSM_Jaccard\": osm_jaccard,\n",
        "        \"Google_Jaccard\": google_jaccard,\n",
        "        \"Better_Match\": \"OSM\" if osm_jaccard > google_jaccard else \"GOOGLE\"\n",
        "    })\n",
        "\n",
        "# Criar DataFrame com os resultados\n",
        "import pandas as pd\n",
        "results_df = pd.DataFrame(results)\n",
        "\n",
        "# Estatísticas gerais\n",
        "print(\"Média Jaccard - OSM:\", results_df[\"OSM_Jaccard\"].mean())\n",
        "print(\"Média Jaccard - Google:\", results_df[\"Google_Jaccard\"].mean())\n",
        "print(\"Melhor conjunto em geral:\", results_df[\"Better_Match\"].value_counts().idxmax())\n"
      ],
      "metadata": {
        "colab": {
          "base_uri": "https://localhost:8080/"
        },
        "id": "25K3pljxcqw7",
        "outputId": "60b9f58f-b4aa-47fe-b0c0-0a5722caed77"
      },
      "execution_count": null,
      "outputs": [
        {
          "output_type": "stream",
          "name": "stdout",
          "text": [
            "Média Jaccard - OSM: 0.31893489540776465\n",
            "Média Jaccard - Google: 0.34474666439081736\n",
            "Melhor conjunto em geral: GOOGLE\n"
          ]
        }
      ]
    },
    {
      "cell_type": "code",
      "source": [
        "import os\n",
        "\n",
        "# Listar todos os arquivos no diretório atual\n",
        "print(\"Arquivos no diretório atual:\")\n",
        "print(os.listdir())\n"
      ],
      "metadata": {
        "colab": {
          "base_uri": "https://localhost:8080/"
        },
        "id": "0EM44prchugp",
        "outputId": "5a607ce7-7204-42f7-eef4-9424021301b4"
      },
      "execution_count": null,
      "outputs": [
        {
          "output_type": "stream",
          "name": "stdout",
          "text": [
            "Arquivos no diretório atual:\n",
            "['.config', 'drive', 'sample_data']\n"
          ]
        }
      ]
    },
    {
      "cell_type": "code",
      "source": [
        "# Certifique-se de que este código está sendo executado corretamente\n",
        "results_df.to_csv(\"comparacao_jaccard.csv\", index=False)\n"
      ],
      "metadata": {
        "id": "GHzagekQhycm"
      },
      "execution_count": null,
      "outputs": []
    },
    {
      "cell_type": "code",
      "source": [
        "from google.colab import files\n",
        "\n",
        "# Tente novamente baixar o arquivo\n",
        "files.download(\"comparacao_jaccard.csv\")\n"
      ],
      "metadata": {
        "colab": {
          "base_uri": "https://localhost:8080/",
          "height": 17
        },
        "id": "Xly8M4_3h1V7",
        "outputId": "0ca477cf-3ec8-4c16-a90c-a73a7cfd4a8d"
      },
      "execution_count": null,
      "outputs": [
        {
          "output_type": "display_data",
          "data": {
            "text/plain": [
              "<IPython.core.display.Javascript object>"
            ],
            "application/javascript": [
              "\n",
              "    async function download(id, filename, size) {\n",
              "      if (!google.colab.kernel.accessAllowed) {\n",
              "        return;\n",
              "      }\n",
              "      const div = document.createElement('div');\n",
              "      const label = document.createElement('label');\n",
              "      label.textContent = `Downloading \"${filename}\": `;\n",
              "      div.appendChild(label);\n",
              "      const progress = document.createElement('progress');\n",
              "      progress.max = size;\n",
              "      div.appendChild(progress);\n",
              "      document.body.appendChild(div);\n",
              "\n",
              "      const buffers = [];\n",
              "      let downloaded = 0;\n",
              "\n",
              "      const channel = await google.colab.kernel.comms.open(id);\n",
              "      // Send a message to notify the kernel that we're ready.\n",
              "      channel.send({})\n",
              "\n",
              "      for await (const message of channel.messages) {\n",
              "        // Send a message to notify the kernel that we're ready.\n",
              "        channel.send({})\n",
              "        if (message.buffers) {\n",
              "          for (const buffer of message.buffers) {\n",
              "            buffers.push(buffer);\n",
              "            downloaded += buffer.byteLength;\n",
              "            progress.value = downloaded;\n",
              "          }\n",
              "        }\n",
              "      }\n",
              "      const blob = new Blob(buffers, {type: 'application/binary'});\n",
              "      const a = document.createElement('a');\n",
              "      a.href = window.URL.createObjectURL(blob);\n",
              "      a.download = filename;\n",
              "      div.appendChild(a);\n",
              "      a.click();\n",
              "      div.remove();\n",
              "    }\n",
              "  "
            ]
          },
          "metadata": {}
        },
        {
          "output_type": "display_data",
          "data": {
            "text/plain": [
              "<IPython.core.display.Javascript object>"
            ],
            "application/javascript": [
              "download(\"download_8729a7b1-9aa9-462f-91d7-a6fc45c81b6e\", \"comparacao_jaccard.csv\", 197499)"
            ]
          },
          "metadata": {}
        }
      ]
    },
    {
      "cell_type": "code",
      "source": [
        "# Criar GeoDataFrame para os resultados\n",
        "from geopandas import GeoDataFrame\n",
        "\n",
        "geometry = []\n",
        "for idx, ref_geom in enumerate(referencial.geometry):\n",
        "    osm_match = osm.iloc[osm.distance(ref_geom).idxmin()]\n",
        "    google_match = google.iloc[google.distance(ref_geom).idxmin()]\n",
        "\n",
        "    # Salvar apenas a geometria correspondente (com maior Jaccard)\n",
        "    if results[idx][\"Better_Match\"] == \"OSM\":\n",
        "        geometry.append(osm_match.geometry)\n",
        "    else:\n",
        "        geometry.append(google_match.geometry)\n",
        "\n",
        "# Criar GeoDataFrame final\n",
        "results_gdf = GeoDataFrame(results_df, geometry=geometry, crs=referencial.crs)\n"
      ],
      "metadata": {
        "id": "yNGLxJxViY2Z"
      },
      "execution_count": null,
      "outputs": []
    },
    {
      "cell_type": "code",
      "source": [
        "# Soma dos Jaccards e número de correspondências\n",
        "osm_jaccard_sum = results_df[\"OSM_Jaccard\"].sum()\n",
        "google_jaccard_sum = results_df[\"Google_Jaccard\"].sum()\n",
        "\n",
        "# Número de correspondências efetivas (índices > 0)\n",
        "osm_matches = (results_df[\"OSM_Jaccard\"] > 0).sum()\n",
        "google_matches = (results_df[\"Google_Jaccard\"] > 0).sum()\n",
        "\n",
        "# Jaccard Normalizado\n",
        "osm_normalized = osm_jaccard_sum / osm_matches\n",
        "google_normalized = google_jaccard_sum / google_matches\n",
        "\n",
        "print(f\"Jaccard Normalizado - OSM: {osm_normalized}\")\n",
        "print(f\"Jaccard Normalizado - Google: {google_normalized}\")\n"
      ],
      "metadata": {
        "id": "FathA0obnw51",
        "outputId": "2fe9fe77-a3db-422f-8684-1c6cab95d65e",
        "colab": {
          "base_uri": "https://localhost:8080/"
        }
      },
      "execution_count": null,
      "outputs": [
        {
          "output_type": "stream",
          "name": "stdout",
          "text": [
            "Jaccard Normalizado - OSM: 0.35990530121397574\n",
            "Jaccard Normalizado - Google: 0.3639907578016198\n"
          ]
        }
      ]
    }
  ]
}